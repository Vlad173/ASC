{
 "cells": [
  {
   "cell_type": "markdown",
   "metadata": {},
   "source": [
    "# Лабораторная работа №2"
   ]
  },
  {
   "cell_type": "markdown",
   "metadata": {},
   "source": [
    "## <span style=\"color:gray\">Часть 1 - Метод дихотомии и метод Ньютона</span>"
   ]
  },
  {
   "cell_type": "code",
   "execution_count": 1,
   "metadata": {},
   "outputs": [
    {
     "data": {
      "image/png": "[encoded data removed]",
      "text/plain": [
       "Graphics object consisting of 1 graphics primitive"
      ]
     },
     "execution_count": 1,
     "metadata": {},
     "output_type": "execute_result"
    }
   ],
   "source": [
    "func = x**3 - 9*x**2 + 23*x - 15\n",
    "EPS = 1e-5\n",
    "\n",
    "plot.options[\"xmin\"] = -50\n",
    "plot.options[\"xmax\"] = 50\n",
    "plot.options[\"ymin\"] = -55\n",
    "plot.options[\"ymax\"] = 45\n",
    "plot(func, title=r\"$x^3 - 9*x^2 + 23*x - 15$\")"
   ]
  },
  {
   "cell_type": "markdown",
   "metadata": {},
   "source": [
    "### ***1. Ньютон***"
   ]
  },
  {
   "cell_type": "code",
   "execution_count": 2,
   "metadata": {},
   "outputs": [],
   "source": [
    "# Функция вычисляющая методом Ньютона точку пересечения с Ox\n",
    "def newton(f, a, b, EPS = 1e-5):\n",
    "    x1 = a\n",
    "    x2 = (a + b) / 2\n",
    "    \n",
    "    df = f.derivative()\n",
    "    while abs(x2 - x1) >= EPS:\n",
    "        x1 = x2\n",
    "        x2 = x1 - f(x=x1)/df(x=x1)\n",
    "\n",
    "    return x1"
   ]
  },
  {
   "cell_type": "code",
   "execution_count": 3,
   "metadata": {},
   "outputs": [
    {
     "data": {
      "image/png": "[encoded data removed]",
      "text/plain": [
       "Graphics object consisting of 3 graphics primitives"
      ]
     },
     "metadata": {},
     "output_type": "display_data"
    }
   ],
   "source": [
    "# Пример вычисления корня уравнения с точками a = 0.5 и b = 3\n",
    "a = 0.5\n",
    "b = 3\n",
    "\n",
    "x_1 = newton(func, a, b)\n",
    "\n",
    "p1 = plot(func,(0,7), title=\"${}$\".format(func))\n",
    "p1 += point((x_1, 0), color=\"red\", size=30, zorder=20)\n",
    "p1 += text(r\"$x_1$\", (x_1, 5), color=\"black\", fontsize=14)\n",
    "\n",
    "p1.show()"
   ]
  },
  {
   "cell_type": "code",
   "execution_count": 4,
   "metadata": {
    "scrolled": false
   },
   "outputs": [
    {
     "data": {
      "application/vnd.jupyter.widget-view+json": {
       "model_id": "ce016ac4ffb94c2d881b25994d6f8b73",
       "version_major": 2,
       "version_minor": 0
      },
      "text/plain": [
       "Interactive function <function newton_interact at 0x1c000b8b0> with 2 widgets\n",
       "  a: FloatSlider(value=2.0, desc…"
      ]
     },
     "metadata": {},
     "output_type": "display_data"
    }
   ],
   "source": [
    "# Визуализация метода Ньютона\n",
    "\n",
    "@interact\n",
    "def newton_interact(a = (0, 4, 0.5), b = (2, 8, 0.5)):\n",
    "    x1 = a\n",
    "    x2 = (a + b) / 2\n",
    "\n",
    "    p2 = plot(func, (0, 7))\n",
    "\n",
    "    df = func.derivative()\n",
    "\n",
    "    xmin = -1\n",
    "    xmax = 8\n",
    "    ymin = -5\n",
    "    ymax = 7\n",
    "    \n",
    "    gr = []\n",
    "    i = 0\n",
    "\n",
    "    while abs(x2 - x1) >= 0.001:\n",
    "        i = i + 1\n",
    "        x1 = x2\n",
    "        x2 = x1 - func(x=x1) / df(x=x1)\n",
    "        l = df(x1)*(x - x1) + func(x=x1)\n",
    "        gr.append(p2 + plot(l, color=\"red\", xmin = xmin, ymin = ymin, ymax = ymax, xmax = xmax,  aspect_ratio = 1) \n",
    "                  + text((r\"$Номер \\ итерации={}$\" + \"\\n\" + r\"$y={}$\" + \"\\n\" + r\"$x_1={}, \\ x_2={}$\").format(i, latex(l), x1, x2), \n",
    "                            (4, 8.5), fontsize=10, color=\"black\")) \n",
    "\n",
    "    graphics_array(gr, ncols = 2).show(figsize = [8, 12])\n"
   ]
  },
  {
   "cell_type": "markdown",
   "metadata": {},
   "source": [
    "Результат полученный методом Ньютона совпадает с результатом solve для каждого корня при правильном выборе границ a, b"
   ]
  },
  {
   "cell_type": "code",
   "execution_count": 5,
   "metadata": {},
   "outputs": [
    {
     "data": {
      "text/html": [
       "<html><script type=\"math/tex; mode=display\">\\newcommand{\\Bold}[1]{\\mathbf{#1}}1</script></html>"
      ],
      "text/latex": [
       "\\begin{math}\n",
       "\\newcommand{\\Bold}[1]{\\mathbf{#1}}1\n",
       "\\end{math}"
      ],
      "text/plain": [
       "1"
      ]
     },
     "metadata": {},
     "output_type": "display_data"
    },
    {
     "data": {
      "text/html": [
       "<html><script type=\"math/tex; mode=display\">\\newcommand{\\Bold}[1]{\\mathbf{#1}}3</script></html>"
      ],
      "text/latex": [
       "\\begin{math}\n",
       "\\newcommand{\\Bold}[1]{\\mathbf{#1}}3\n",
       "\\end{math}"
      ],
      "text/plain": [
       "3"
      ]
     },
     "metadata": {},
     "output_type": "display_data"
    },
    {
     "data": {
      "text/html": [
       "<html><script type=\"math/tex; mode=display\">\\newcommand{\\Bold}[1]{\\mathbf{#1}}5.00000033021035</script></html>"
      ],
      "text/latex": [
       "\\begin{math}\n",
       "\\newcommand{\\Bold}[1]{\\mathbf{#1}}5.00000033021035\n",
       "\\end{math}"
      ],
      "text/plain": [
       "5.00000033021035"
      ]
     },
     "metadata": {},
     "output_type": "display_data"
    },
    {
     "data": {
      "text/plain": [
       "[x == 1, x == 5, x == 3]"
      ]
     },
     "execution_count": 5,
     "metadata": {},
     "output_type": "execute_result"
    }
   ],
   "source": [
    "show(newton(func, 0, 2))\n",
    "show(newton(func, 2, 4))\n",
    "show(newton(func, 4.5, 7))\n",
    "solve(func, x)"
   ]
  },
  {
   "cell_type": "markdown",
   "metadata": {},
   "source": [
    "## ***2. Дихотомия***"
   ]
  },
  {
   "cell_type": "code",
   "execution_count": 6,
   "metadata": {},
   "outputs": [],
   "source": [
    "# Функция вычисляющая методом дихотомии точку пересечения с Ox\n",
    "def dichotomy(f, l, r, EPS = 0.01):\n",
    "    while abs(r - l) > EPS:\n",
    "        mid = (l + r) / 2\n",
    "        if f(x=l) * f(x=mid) > 0:\n",
    "            l = mid\n",
    "        elif f(x=r) * f(x=r) > 0:\n",
    "            r = mid\n",
    "    return n(l)"
   ]
  },
  {
   "cell_type": "code",
   "execution_count": 7,
   "metadata": {},
   "outputs": [
    {
     "data": {
      "image/png": "[encoded data removed]",
      "text/plain": [
       "Graphics object consisting of 3 graphics primitives"
      ]
     },
     "metadata": {},
     "output_type": "display_data"
    }
   ],
   "source": [
    "# Пример вычисления корня уравнения с точками a = 4 и b = 6\n",
    "a = 4\n",
    "b = 6\n",
    "\n",
    "x_1 = dichotomy(func, a, b)\n",
    "\n",
    "p1 = plot(func,(0,7), title=\"${}$\".format(func))\n",
    "p1 += point((x_1, 0), color=\"red\", size=30, zorder=20)\n",
    "p1 += text(r\"$x_1$\", (x_1, 5), color=\"black\", fontsize=14)\n",
    "\n",
    "p1.show()"
   ]
  },
  {
   "cell_type": "code",
   "execution_count": 8,
   "metadata": {
    "scrolled": false
   },
   "outputs": [
    {
     "data": {
      "application/vnd.jupyter.widget-view+json": {
       "model_id": "4cbf85d277a44d56a37e8acba537a971",
       "version_major": 2,
       "version_minor": 0
      },
      "text/plain": [
       "Interactive function <function dichotomy_interact at 0x1c4fc5160> with 2 widgets\n",
       "  a: FloatSlider(value=2.0, d…"
      ]
     },
     "metadata": {},
     "output_type": "display_data"
    }
   ],
   "source": [
    "# Визуализация метода дихотомии\n",
    "\n",
    "@interact\n",
    "def dichotomy_interact(a = (0, 4, 0.5), b = (2, 7, 0.5)):\n",
    "    l = a\n",
    "    r = b\n",
    "    \n",
    "    xmin = -1\n",
    "    xmax = 8\n",
    "    ymin = -5\n",
    "    ymax = 7\n",
    "    \n",
    "    p2 = plot(func, (0, 7), ymin = ymin, ymax = ymax, xmax = xmax, xmin = xmin, aspect_ratio = 1)\n",
    "\n",
    "    df = func.derivative()\n",
    "\n",
    "    \n",
    "    \n",
    "    gr = []\n",
    "    i = 0\n",
    "\n",
    "    while abs(r - l) > 0.05:\n",
    "        i = i + 1\n",
    "        mid = (l + r) / 2\n",
    "        if func(x = l) * func(x = mid) > 0:\n",
    "            l = mid\n",
    "        elif func(x = r) * func(x = r) > 0:\n",
    "            r = mid\n",
    "        \n",
    "        gr.append(p2 + line([(l, 0), (r, 0)], color = 'red', thickness = 3) +\n",
    "                  text((r\"$Номер \\ итерации={}$\" + \"\\n\" + r\"$y={}$\" + \"\\n\" + r\"$l={}, \\ r={}$\").format(i, latex(l), l, r), \n",
    "                            (4, 8.5), fontsize=10, color=\"black\"))\n",
    "    \n",
    "    graphics_array(gr, ncols = 2).show(figsize = [10, 16])\n",
    "\n"
   ]
  },
  {
   "cell_type": "markdown",
   "metadata": {},
   "source": [
    "Результат полученный методом дихотомии примерно совпадает (отличается на эпсилон) с результатом solve для каждого корня при правильном выборе границ a, b"
   ]
  },
  {
   "cell_type": "code",
   "execution_count": 9,
   "metadata": {},
   "outputs": [
    {
     "data": {
      "text/html": [
       "<html><script type=\"math/tex; mode=display\">\\newcommand{\\Bold}[1]{\\mathbf{#1}}0.992187500000000</script></html>"
      ],
      "text/latex": [
       "\\begin{math}\n",
       "\\newcommand{\\Bold}[1]{\\mathbf{#1}}0.992187500000000\n",
       "\\end{math}"
      ],
      "text/plain": [
       "0.992187500000000"
      ]
     },
     "metadata": {},
     "output_type": "display_data"
    },
    {
     "data": {
      "text/html": [
       "<html><script type=\"math/tex; mode=display\">\\newcommand{\\Bold}[1]{\\mathbf{#1}}2.99218750000000</script></html>"
      ],
      "text/latex": [
       "\\begin{math}\n",
       "\\newcommand{\\Bold}[1]{\\mathbf{#1}}2.99218750000000\n",
       "\\end{math}"
      ],
      "text/plain": [
       "2.99218750000000"
      ]
     },
     "metadata": {},
     "output_type": "display_data"
    },
    {
     "data": {
      "text/html": [
       "<html><script type=\"math/tex; mode=display\">\\newcommand{\\Bold}[1]{\\mathbf{#1}}4.99804687500000</script></html>"
      ],
      "text/latex": [
       "\\begin{math}\n",
       "\\newcommand{\\Bold}[1]{\\mathbf{#1}}4.99804687500000\n",
       "\\end{math}"
      ],
      "text/plain": [
       "4.99804687500000"
      ]
     },
     "metadata": {},
     "output_type": "display_data"
    },
    {
     "data": {
      "text/plain": [
       "[x == 1, x == 5, x == 3]"
      ]
     },
     "execution_count": 9,
     "metadata": {},
     "output_type": "execute_result"
    }
   ],
   "source": [
    "show(dichotomy(func, 0, 2))\n",
    "show(dichotomy(func, 2, 4))\n",
    "show(dichotomy(func, 4.5, 7))\n",
    "solve(func, x)"
   ]
  },
  {
   "cell_type": "markdown",
   "metadata": {},
   "source": [
    "## <span style=\"color:gray\">Часть 2 - НОД</span>"
   ]
  },
  {
   "cell_type": "code",
   "execution_count": 10,
   "metadata": {},
   "outputs": [],
   "source": [
    "# Вариант 5\n",
    "R, (x, y) = PolynomialRing(QQ,'x, y').objgens()\n",
    "f = 12*x**7 - 168*x**5 + 288*x**3 + 324*x\n",
    "g = 4*x**6 - 28*x**4 + 20*x**3 + 48*x**2 - 60*x"
   ]
  },
  {
   "cell_type": "code",
   "execution_count": 11,
   "metadata": {},
   "outputs": [],
   "source": [
    "# Функция вычисления коэффициентов тождества Безу и gcd(a,b)\n",
    "def bezout(a, b):\n",
    "    x, xx, y, yy = 1, 0, 0, 1\n",
    "    while b:\n",
    "        q, r = a // b, a % b\n",
    "        a = b\n",
    "        b = r\n",
    "        x, xx = xx, x - xx*q\n",
    "        y, yy = yy, y - yy*q\n",
    "    return (x, y, a)"
   ]
  },
  {
   "cell_type": "code",
   "execution_count": 12,
   "metadata": {},
   "outputs": [
    {
     "name": "stdout",
     "output_type": "stream",
     "text": [
      "НОД(bezout) = -1420804/4563*x^3 + 1420804/1521*x\n",
      "НОД(gcd) = x^3 - 3*x\n",
      "Получено верное тождество\n"
     ]
    }
   ],
   "source": [
    "# Результат в виде трех элементов u, v, gcd(f,g) \n",
    "bez = bezout(f, g)\n",
    "print(\"НОД(bezout) =\", bez[2])\n",
    "\n",
    "# Функция gcd\n",
    "print(\"НОД(gcd) =\", gcd(f, g))\n",
    "\n",
    "# Тождество Безу f*u + v*g = gcd(f, g)\n",
    "if f * bez[0] + g * bez[1] - bez[2] == 0:\n",
    "    print(\"Получено верное тождество\")"
   ]
  },
  {
   "cell_type": "markdown",
   "metadata": {},
   "source": [
    "Полученный НОД равен результату функции gcd, умноженному на константу $\\frac{\\textbf{-1420804}}{\\textbf{4563}}$\n"
   ]
  }
 ],
 "metadata": {
  "kernelspec": {
   "display_name": "SageMath 9.2",
   "language": "sage",
   "name": "sagemath"
  },
  "language_info": {
   "codemirror_mode": {
    "name": "ipython",
    "version": 3
   },
   "file_extension": ".py",
   "mimetype": "text/x-python",
   "name": "python",
   "nbconvert_exporter": "python",
   "pygments_lexer": "ipython3",
   "version": "3.8.5"
  }
 },
 "nbformat": 4,
 "nbformat_minor": 4
}